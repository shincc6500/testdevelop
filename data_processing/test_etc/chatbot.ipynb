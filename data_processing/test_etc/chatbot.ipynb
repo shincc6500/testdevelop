{
 "cells": [
  {
   "cell_type": "markdown",
   "metadata": {},
   "source": [
    "## test gpt, rag"
   ]
  },
  {
   "cell_type": "code",
   "execution_count": null,
   "metadata": {},
   "outputs": [
    {
     "name": "stdout",
     "output_type": "stream",
     "text": [
      "\n",
      "\n",
      " path ㅡㅡㅡㅡㅡㅡㅡㅡㅡㅡㅡㅡㅡㅡㅡㅡㅡㅡㅡㅡㅡㅡㅡㅡㅡㅡㅡㅡㅡㅡㅡㅡㅡㅡㅡㅡㅡㅡㅡㅡㅡㅡㅡㅡㅡ\n",
      "\n",
      "pwd : z:\\maeng_dir\\sparta_camp\\final_sparta\\ipython\n",
      "book_DB_dir : Z:\\maeng_dir\\sparta_camp\\final_sparta\\book_DB\n"
     ]
    }
   ],
   "source": [
    "from dotenv import load_dotenv\n",
    "import os\n",
    "\n",
    "\n",
    "#### path\n",
    "print(\"\\n\\n path ㅡㅡㅡㅡㅡㅡㅡㅡㅡㅡㅡㅡㅡㅡㅡㅡㅡㅡㅡㅡㅡㅡㅡㅡㅡㅡㅡㅡㅡㅡㅡㅡㅡㅡㅡㅡㅡㅡㅡㅡㅡㅡㅡㅡㅡ\\n\")\n",
    "load_dotenv()\n",
    "ROOT_DIR = os.getenv(\"ROOT_DIR\")\n",
    "\n",
    "\n",
    "book_DB_dir = os.path.join(ROOT_DIR, \"book_DB\")\n",
    "\n",
    "\n",
    "print(\"pwd :\", os.getcwd())\n",
    "print(\"book_DB_dir :\", book_DB_dir)"
   ]
  },
  {
   "cell_type": "markdown",
   "metadata": {},
   "source": [
    "## LangChain"
   ]
  },
  {
   "cell_type": "code",
   "execution_count": 10,
   "metadata": {},
   "outputs": [],
   "source": [
    "from langchain.prompts import ChatPromptTemplate\n",
    "from langchain_chroma import Chroma\n",
    "from langchain_openai import ChatOpenAI, OpenAIEmbeddings\n",
    "\n",
    "\n",
    "#### input\n",
    "user_question = \"가지를 키울 토양의 화학성 수치 정보좀 줘\"\n",
    "user_soil = {'지번코드(PNU_Code)': '5115034022100750001',\n",
    " '시료채취년도(Any_Year)': '2024',\n",
    " '토양검정일(Exam_Day)': '20240325',\n",
    " '경지구분코드(Exam_Type)': '1',\n",
    " '대상지 지번주소(PNU_Nm)': '강원특별자치도 강릉시 강동면 모전리 75-1',\n",
    " '산도(ACID)': '6.800',\n",
    " '유효인산(VLDPHA)': '74.700',\n",
    " '유효규산(VLDSIA)': '77.000',\n",
    " '유기물(OM)': '13.000',\n",
    " '마그네슘(POSIFERT_MG)': '1.100',\n",
    " '칼륨(POSIFERT_K)': '0.174',\n",
    " '칼슘(POSIFERT_CA)': '3.500',\n",
    " '전기전도도(SELC)': '0.850'}\n",
    "\n",
    "#### RAG\n",
    "embeddings = OpenAIEmbeddings()\n",
    "book_DB = Chroma(\n",
    "            persist_directory = book_DB_dir,\n",
    "            embedding_function = embeddings,\n",
    "        )\n",
    "\n",
    "\n",
    "retriever = book_DB.as_retriever()\n",
    "retrieved_docs = retriever.invoke(user_question)\n",
    "context = \"\\n\".join([doc.page_content for doc in retrieved_docs])\n",
    "\n",
    "\n",
    "#### LLM & prompt\n",
    "llm = ChatOpenAI(model=\"gpt-4o-mini\", temperature=0)\n",
    "\n",
    "# Question: {user_question}\n",
    "prompt_RAG = ChatPromptTemplate.from_template(\n",
    "    \"\"\"\n",
    "        \n",
    "        user_soil: {user_soil}\n",
    "        Context: {context}\n",
    "        Answer:\n",
    "            \n",
    "        1. Context와 사용자의 토양 정보(user_soil)를 활용해서 사용자의 토양에 적합한 작물을 추천해줘\n",
    "        \n",
    "        \n",
    "    \"\"\")\n",
    "\n",
    "\n",
    "#### Chain\n",
    "chain = prompt_RAG | llm\n",
    "res = chain.invoke({\"context\": context, \"user_soil\": user_soil})\n",
    "result_RAG = res.content\n",
    "\n",
    "with open(\"../result_RAG.txt\", \"w\") as f:\n",
    "    f.write(result_RAG)\n",
    "\n",
    "# print(result_RAG)"
   ]
  },
  {
   "cell_type": "code",
   "execution_count": null,
   "metadata": {},
   "outputs": [],
   "source": [
    "# chain_C = prompt_C | llm\n",
    "# res_C = chain_C.invoke({\"result_RAG\": result_RAG, \"result_LLM\": result_LLM})\n",
    "# result_03 = res_C.content\n",
    "# print(\"\\n\\n>>>>>>>>>>>>>>>>>>>>>>>>>>>>>>>>>>>>>>>>>>>>>>>>>>>>>>>>>>>>>>>>>>>>>>>>>>>>>>\")\n",
    "# print(\"prompt_C\")\n",
    "# print(result_03)"
   ]
  }
 ],
 "metadata": {
  "kernelspec": {
   "display_name": "final_sparta",
   "language": "python",
   "name": "python3"
  },
  "language_info": {
   "codemirror_mode": {
    "name": "ipython",
    "version": 3
   },
   "file_extension": ".py",
   "mimetype": "text/x-python",
   "name": "python",
   "nbconvert_exporter": "python",
   "pygments_lexer": "ipython3",
   "version": "3.10.16"
  }
 },
 "nbformat": 4,
 "nbformat_minor": 2
}

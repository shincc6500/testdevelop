{
 "cells": [
  {
   "cell_type": "markdown",
   "metadata": {},
   "source": [
    "## 농촌진흥청 국립농업과학원_토양도 기반 토양특성 상세정보V2\n",
    "https://www.data.go.kr/data/15098809/openapi.do"
   ]
  },
  {
   "cell_type": "code",
   "execution_count": null,
   "metadata": {},
   "outputs": [],
   "source": [
    "import requests\n",
    "import os\n",
    "\n",
    "from dotenv import load_dotenv\n",
    "load_dotenv()\n",
    "\n",
    "\n",
    "#### params\n",
    "api_key = [os.getenv('api_key_03_01'), os.getenv('api_key_03_02')]  # encoding, decoding\n",
    "\n",
    "PNU_Code = '4611010100101830025'\n",
    "url = 'http://apis.data.go.kr/1390802/SoilEnviron/SoilCharac/V2/getSoilCharacter'\n",
    "\n",
    "\n",
    "params = {'serviceKey' : api_key[1], 'PNU_Code' : PNU_Code }"
   ]
  },
  {
   "cell_type": "code",
   "execution_count": 14,
   "metadata": {},
   "outputs": [
    {
     "data": {
      "text/plain": [
       "<Response [200]>"
      ]
     },
     "execution_count": 14,
     "metadata": {},
     "output_type": "execute_result"
    }
   ],
   "source": [
    "#### GET\n",
    "response = requests.get(url, params = params)\n",
    "response"
   ]
  },
  {
   "cell_type": "code",
   "execution_count": null,
   "metadata": {},
   "outputs": [],
   "source": [
    "import xmltodict\n",
    "\n",
    "\n",
    "#### parsing to json\n",
    "response_context = response.text\n",
    "\n",
    "response_json = xmltodict.parse(response_context)[\"response\"]\n",
    "response_json[\"body\"][\"items\"][\"item\"]"
   ]
  },
  {
   "cell_type": "code",
   "execution_count": 27,
   "metadata": {},
   "outputs": [
    {
     "data": {
      "text/plain": [
       "28"
      ]
     },
     "execution_count": 27,
     "metadata": {},
     "output_type": "execute_result"
    }
   ],
   "source": [
    "renamed_dict = {\"PNU_Code\" : \"지번코드\",\n",
    "                \"Soil_Color_Code\" : \"토색코드\",\n",
    "                \"Soil_Structure_Code\" : \"구조코드\",\n",
    "                \"Deepsoil_Color_Code\" : \"심토주토색코드\",\n",
    "                \"Matrix_Code\" : \"모암(모재)코드\",\n",
    "                \"Soildra_Code\" : \"배수등급코드\",\n",
    "                \"Vldsoildep_Code\" : \"유효토심코드\",\n",
    "                \"Erosion_Code\" : \"침식등급코드\",\n",
    "                \"Surtture_Code\" : \"표토토성코드\",\n",
    "                \"Sur_Ston_Code\" : \"표토자갈함량코드\",\n",
    "                \"Soil_Type_Geo_Code\" : \"분포지형코드\",\n",
    "                \"Accu_Style_Code\" : \"퇴적양식코드\",\n",
    "                \"Main_Order_Code\" : \"토양목코드\",\n",
    "                \"Sub_Order_Code\" : \"토양아목코드\",\n",
    "                \"Grategroup_Code\" : \"토양대군코드\",\n",
    "                \"Main_Landuse_Code\" : \"주토지이용코드\",\n",
    "                \"Soil_Use_Rec_Code\" : \"토지이용추천코드\",\n",
    "                \"Soil_Type_Code\" : \"토양유형코드\",\n",
    "                \"Rfld_Grd_Code\" : \"논적성등급코드\",\n",
    "                \"Paddy_Factor_Code\" : \"논저해요인코드\",\n",
    "                \"Pfld_Grd_Code\" : \"밭적성등급코드\",\n",
    "                \"Upland_Factor_Code\" : \"밭저해요인코드\",\n",
    "                \"Fruit_Grd_Code\" : \"과수상전적성등급코드\",\n",
    "                \"Fruit_Factor_Code\" : \"과수상전저해요인코드\",\n",
    "                \"Pasture_Grd_Code\" : \"초지적성등급코드\",\n",
    "                \"Grass_Factor_Code\" : \"초지저해요인코드\",\n",
    "                \"Frst_Grd_Code\" : \"임지적성등급코드\",\n",
    "                \"Forest_Factor_Code\" : \"임지저해요인코드\"}\n",
    "\n",
    "len(renamed_dict)"
   ]
  },
  {
   "cell_type": "code",
   "execution_count": 28,
   "metadata": {},
   "outputs": [
    {
     "data": {
      "text/plain": [
       "28"
      ]
     },
     "execution_count": 28,
     "metadata": {},
     "output_type": "execute_result"
    }
   ],
   "source": [
    "val_dict = {}\n",
    "raw_dict = response_json[\"body\"][\"items\"][\"item\"]\n",
    "col_list = raw_dict.keys()\n",
    "for col in col_list:\n",
    "    if col in renamed_dict:\n",
    "        val_dict[renamed_dict[col] + \" \" + f\"({col})\"] = raw_dict[col]\n",
    "\n",
    "val_dict\n",
    "len(val_dict)"
   ]
  },
  {
   "cell_type": "code",
   "execution_count": 26,
   "metadata": {},
   "outputs": [],
   "source": [
    "import json\n",
    "\n",
    "\n",
    "#### save\n",
    "with open(\"../response_api_03.json\", \"w\") as f:\n",
    "    f.write(json.dumps(val_dict, ensure_ascii=False, indent=4))"
   ]
  },
  {
   "cell_type": "markdown",
   "metadata": {},
   "source": [
    "#### 토지 특징\n",
    "1. 토색코드   \n",
    "토지 색\n",
    "\n",
    "2. 구조코드   \n",
    "토지 구조 - 판상, 반각괴상?\n",
    "\n",
    "3. 심토주토색코드   \n",
    "심토 색\n",
    "\n",
    "4. 모암(모재)코드   \n",
    "\n",
    "\n",
    "5. 배수등급코드 (사용)   \n",
    "배수 6단계 구분\n",
    "\n",
    "6. 유효토심코드 (사용)   \n",
    "25cm 구분\n",
    "\n",
    "7. 침식등급코드   \n",
    "심각 수준 4단계 구분\n",
    "\n",
    "8. 표토토성코드 (사용?)   \n",
    "토성\n",
    "\n",
    "9. 표토자갈함량코드 - 못씀   \n",
    "자갈, 잔돌, 바위 있음 없음 bool 구분\n",
    "\n",
    "10. 분포지형코드   \n",
    "지형 구분 11가지\n",
    "\n",
    "\n",
    "#### 퇴적\n",
    "11. 퇴적양식코드   \n",
    "12. 토양목코드   \n",
    "13. 토양아목코드   \n",
    "14. 토양대군코드   \n",
    "\n",
    "\n",
    "#### 토지 이용 추천 등급 및 저해 요인?\n",
    "15. 주토지이용코드   \n",
    "16. 토지이용추천코드   \n",
    "17. 토양유형코드   \n",
    "18. 논적성등급코드   \n",
    "19. 논저해요인코드   \n",
    "20. 밭적성등급코드   \n",
    "21. 밭저해요인코드   \n",
    "22. 과수상전적성등급코드   \n",
    "23. 과수상전저해요인코드   \n",
    "24. 초지적성등급코드   \n",
    "25. 초지저해요인코드   \n",
    "26. 임지적성등급코드   \n",
    "27. 임지저해요인코드   \n"
   ]
  }
 ],
 "metadata": {
  "kernelspec": {
   "display_name": "final_sparta",
   "language": "python",
   "name": "python3"
  },
  "language_info": {
   "codemirror_mode": {
    "name": "ipython",
    "version": 3
   },
   "file_extension": ".py",
   "mimetype": "text/x-python",
   "name": "python",
   "nbconvert_exporter": "python",
   "pygments_lexer": "ipython3",
   "version": "3.10.16"
  }
 },
 "nbformat": 4,
 "nbformat_minor": 2
}

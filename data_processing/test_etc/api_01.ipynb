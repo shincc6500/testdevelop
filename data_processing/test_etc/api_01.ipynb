{
 "cells": [
  {
   "cell_type": "markdown",
   "metadata": {},
   "source": [
    "## 농촌진흥청 국립농업과학원 토양검정 화학성 상세정보\n",
    "https://www.data.go.kr/data/15073569/openapi.do"
   ]
  },
  {
   "cell_type": "code",
   "execution_count": null,
   "metadata": {},
   "outputs": [],
   "source": [
    "import requests\n",
    "import os\n",
    "\n",
    "from dotenv import load_dotenv\n",
    "load_dotenv()\n",
    "\n",
    "\n",
    "#### params\n",
    "api_key = [os.getenv('api_key_01_01'), os.getenv('api_key_01_02')]  # encoding, decoding\n",
    "fuc_list = [\"getSoilExam\", \"getSoilExamList\"]\n",
    "\n",
    "PNU_Code = '5115034022100750001'\n",
    "BJD_Code = '5115034022'\n",
    "url = 'http://apis.data.go.kr/1390802/SoilEnviron/SoilExam/' + fuc_list[0]\n",
    "\n",
    "\n",
    "params ={'serviceKey' : f\"{api_key[1]}\", 'PNU_Code' : PNU_Code}\n",
    "# params ={'serviceKey' : f\"{api_key[0]}\", 'Page_Size' : '10', 'Page_No' : '1', 'BJD_Code' : BJD_Code }"
   ]
  },
  {
   "cell_type": "code",
   "execution_count": 3,
   "metadata": {},
   "outputs": [],
   "source": [
    "#### GET\n",
    "response = requests.get(url, params = params)"
   ]
  },
  {
   "cell_type": "code",
   "execution_count": 4,
   "metadata": {},
   "outputs": [
    {
     "data": {
      "text/plain": [
       "{'PNU_Code': '5115034022100750001',\n",
       " 'Any_Year': '2024',\n",
       " 'Exam_Day': '20240325',\n",
       " 'Exam_Type': '1',\n",
       " 'PNU_Nm': '강원특별자치도 강릉시 강동면 모전리 75-1',\n",
       " 'ACID': '6.800',\n",
       " 'VLDPHA': '74.700',\n",
       " 'VLDSIA': '77.000',\n",
       " 'OM': '13.000',\n",
       " 'POSIFERT_MG': '1.100',\n",
       " 'POSIFERT_K': '0.174',\n",
       " 'POSIFERT_CA': '3.500',\n",
       " 'SELC': '0.850'}"
      ]
     },
     "execution_count": 4,
     "metadata": {},
     "output_type": "execute_result"
    }
   ],
   "source": [
    "import xml.etree.ElementTree as ET\n",
    "import xmltodict\n",
    "import json\n",
    "\n",
    "\n",
    "#### parsing to json\n",
    "response_context = response.text\n",
    "\n",
    "response_json = xmltodict.parse(response_context)[\"response\"]\n",
    "response_json[\"body\"][\"items\"][\"item\"]"
   ]
  },
  {
   "cell_type": "code",
   "execution_count": null,
   "metadata": {},
   "outputs": [],
   "source": [
    "renamed_dict = {\n",
    "    \"BJD_Code\": \"법정동코드\",\n",
    "    \"PNU_Code\": \"지번코드\",\n",
    "    \"Any_Year\": \"시료채취년도\",\n",
    "    \"Exam_Day\": \"토양검정일\",\n",
    "    \"Exam_Type\": \"경지구분코드\",\n",
    "    \"PNU_Nm\": \"대상지 지번주소\",\n",
    "    \"ACID\": \"산도\",\n",
    "    \"VLDPHA\": \"유효인산\",\n",
    "    \"VLDSIA\": \"유효규산\",\n",
    "    \"OM\": \"유기물\",\n",
    "    \"POSIFERT_MG\": \"마그네슘\",\n",
    "    \"POSIFERT_K\": \"칼륨\",\n",
    "    \"POSIFERT_CA\": \"칼슘\",\n",
    "    \"SELC\": \"전기전도도\"\n",
    "}"
   ]
  },
  {
   "cell_type": "code",
   "execution_count": 6,
   "metadata": {},
   "outputs": [
    {
     "data": {
      "text/plain": [
       "{'지번코드 (PNU_Code)': '5115034022100750001',\n",
       " '시료채취년도 (Any_Year)': '2024',\n",
       " '토양검정일 (Exam_Day)': '20240325',\n",
       " '경지구분코드 (Exam_Type)': '1',\n",
       " '대상지 지번주소 (PNU_Nm)': '강원특별자치도 강릉시 강동면 모전리 75-1',\n",
       " '산도 (ACID)': '6.800',\n",
       " '유효인산 (VLDPHA)': '74.700',\n",
       " '유효규산 (VLDSIA)': '77.000',\n",
       " '유기물 (OM)': '13.000',\n",
       " '마그네슘 (POSIFERT_MG)': '1.100',\n",
       " '칼륨 (POSIFERT_K)': '0.174',\n",
       " '칼슘 (POSIFERT_CA)': '3.500',\n",
       " '전기전도도 (SELC)': '0.850'}"
      ]
     },
     "execution_count": 6,
     "metadata": {},
     "output_type": "execute_result"
    }
   ],
   "source": [
    "val_dict = {}\n",
    "raw_dict = response_json[\"body\"][\"items\"][\"item\"]\n",
    "col_list = raw_dict.keys()\n",
    "for col in col_list:\n",
    "    if col in renamed_dict:\n",
    "        val_dict[renamed_dict[col] + \" \" + f\"({col})\"] = raw_dict[col]\n",
    "\n",
    "val_dict"
   ]
  },
  {
   "cell_type": "code",
   "execution_count": 7,
   "metadata": {},
   "outputs": [],
   "source": [
    "import json\n",
    "\n",
    "\n",
    "#### save\n",
    "with open(\"../response_api_01.json\", \"w\") as f:\n",
    "    f.write(json.dumps(val_dict, ensure_ascii=False, indent=4))"
   ]
  },
  {
   "cell_type": "markdown",
   "metadata": {},
   "source": []
  }
 ],
 "metadata": {
  "kernelspec": {
   "display_name": "final_sparta",
   "language": "python",
   "name": "python3"
  },
  "language_info": {
   "codemirror_mode": {
    "name": "ipython",
    "version": 3
   },
   "file_extension": ".py",
   "mimetype": "text/x-python",
   "name": "python",
   "nbconvert_exporter": "python",
   "pygments_lexer": "ipython3",
   "version": "3.10.16"
  }
 },
 "nbformat": 4,
 "nbformat_minor": 2
}

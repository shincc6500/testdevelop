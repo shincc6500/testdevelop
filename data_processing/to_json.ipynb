{
 "cells": [
  {
   "cell_type": "markdown",
   "metadata": {},
   "source": [
    "### merge jsons"
   ]
  },
  {
   "cell_type": "code",
   "execution_count": 22,
   "metadata": {},
   "outputs": [],
   "source": [
    "from dotenv import load_dotenv\n",
    "\n",
    "import os\n",
    "import json\n",
    "\n",
    "\n",
    "#### path\n",
    "load_dotenv()\n",
    "ROOT_DIR = os.getenv(\"ROOT_DIR\")\n",
    "\n",
    "json_name_list = os.listdir(os.path.join(ROOT_DIR, \"data\", \"ocr_json\"))"
   ]
  },
  {
   "cell_type": "code",
   "execution_count": 23,
   "metadata": {},
   "outputs": [
    {
     "data": {
      "text/plain": [
       "dict_keys(['가지', '감나무', '감자', '감초', '강낭콩', '강활', '겨자무', '결명자', '고구마', '고들빼기', '고려엉겅퀴', '고사리', '고추', '곤달비', '곤약', '곰취', '구기자나무', '구릿대(백지)', '귀리', '근대', '기장', '꽃도라지', '냉이', '녹두', '논콩', '눈개승마', '단삼', '단호박', '달래', '당귤나무(감귤)', '당근', '대추나무', '대파', '댕댕이나무(허니베리)', '더덕', '더위지기', '도라지', '독활(땅두릅)', '돌배나무', '동부', '들깨', '딸기', '땅콩', '마', '마늘', '매실나무', '맥문동', '맥주보리', '맷돌호박', '메밀', '멜론', '모링가', '목초', '무', '무화과', '민들레', '밀', '박하', '반하', '밤나무', '방울다다기', '배', '배암차즈기(곰보배추)', '배추', '병풍쌈', '보리', '복분자딸기(복분자)', '복사나무(복숭아)', '부추', '블랙커런트', '블루베리', '비름', '비트', '뽕나무(오디)', '사과나무', '산딸기', '산수유', '살구나무', '삼백초', '삽주', '상추', '생강', '샤인머스캣', '서양산딸기(블랙베리)', '섬쑥부쟁이', '셀러리', '송이토마토', '수단그라스', '수리취', '수박', '수세미오이', '수수', '순무', '스테비아', '시금치', '신선초', '쑥갓', '씀바귀', '아스파라거스', '알타리무', '애플수박', '애호박', '야콘', '약모밀(어성초)', '양마(케나프)', '양배추', '양상추', '양파', '어수리', '엉겅퀴', '여주', '연꽃(연근)', '오미자', '오이', '옥수수', '완두', '왜천궁(일천궁)', '용담', '우엉', '울외', '유자나무', '유채', '율무', '인삼', '자두나무', '작두콩', '잔대', '조', '주키니호박', '줄맨드라미(아마란스)', '쥐눈이콩', '쥐보리(이탈리안라이그리스)', '지황', '쪽파', '차나무', '참깨', '참당귀', '참외', '참취', '천마', '청보리', '치커리', '케일', '코스모스', '콜라비', '콩', '쿠르쿠마롱가(울금)', '키위(참다래)', '토란', '토마토', '파프리카', '팥', '포도', '플럼코트', '피(사료용)', '피망', '호박', '황금', '황기', '황련'])"
      ]
     },
     "execution_count": 23,
     "metadata": {},
     "output_type": "execute_result"
    }
   ],
   "source": [
    "full_json = {}\n",
    "for json_name in json_name_list:\n",
    "    with open(os.path.join(ROOT_DIR, \"data\", \"ocr_json\", json_name), \"r\") as fr: # from .json\n",
    "        full_json.update(json.load(fr))\n",
    "    \n",
    "full_json.keys()"
   ]
  },
  {
   "cell_type": "markdown",
   "metadata": {},
   "source": [
    "# jsons (from Naver OCR) to json"
   ]
  },
  {
   "cell_type": "code",
   "execution_count": 24,
   "metadata": {},
   "outputs": [],
   "source": [
    "with open(os.path.join(ROOT_DIR, \"data\", \"ocr_whole.json\"), \"w\") as fw: # from .json\n",
    "    fw.write(json.dumps(full_json, ensure_ascii=False, indent=4))"
   ]
  }
 ],
 "metadata": {
  "kernelspec": {
   "display_name": "final_sparta",
   "language": "python",
   "name": "python3"
  },
  "language_info": {
   "codemirror_mode": {
    "name": "ipython",
    "version": 3
   },
   "file_extension": ".py",
   "mimetype": "text/x-python",
   "name": "python",
   "nbconvert_exporter": "python",
   "pygments_lexer": "ipython3",
   "version": "3.10.16"
  }
 },
 "nbformat": 4,
 "nbformat_minor": 2
}

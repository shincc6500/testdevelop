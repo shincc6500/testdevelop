{
 "cells": [
  {
   "cell_type": "markdown",
   "metadata": {},
   "source": [
    "# Naver clova\n",
    "https://www.ncloud.com/"
   ]
  },
  {
   "cell_type": "code",
   "execution_count": 1,
   "metadata": {},
   "outputs": [],
   "source": [
    "from dotenv import load_dotenv\n",
    "import os\n",
    "\n",
    "import requests\n",
    "import uuid\n",
    "import time\n",
    "import json\n",
    "\n",
    "\n",
    "#### load keys\n",
    "load_dotenv()\n",
    "ROOT_DIR = os.getenv(\"ROOT_DIR\")\n",
    "\n",
    "api_url = os.getenv(\"invoke_url\")\n",
    "secret_key = os.getenv(\"secret_key\")\n",
    "\n",
    "\n",
    "#### paths\n",
    "# pdf_path = os.path.join(ROOT_DIR, \"data\", \"soil_suitability\", \"sample_image_01.pdf\")\n",
    "# pdf_path = os.path.join(ROOT_DIR, \"data\", \"soil_suitability\", \"sample_image_05.pdf\")\n",
    "# pdf_path = os.path.join(ROOT_DIR, \"data\", \"soil_suitability\", \"soil_suitability_160.pdf\")\n",
    "\n",
    "pdf_path_list = [os.path.join(ROOT_DIR, \"data\", \"soil_suitability\", f\"{str(num).zfill(2)}0_{str(num).zfill(2)}9.pdf\")for num in range (0, 16)]"
   ]
  },
  {
   "cell_type": "code",
   "execution_count": 146,
   "metadata": {},
   "outputs": [],
   "source": [
    "#### input path\n",
    "pdf_path = pdf_path_list[15]\n",
    "\n",
    "\n",
    "#### api params\n",
    "request_json = {\n",
    "    'images': [\n",
    "        {\n",
    "            'format': 'pdf',\n",
    "            'name': 'demo'\n",
    "        }\n",
    "    ],\n",
    "    'requestId': str(uuid.uuid4()),\n",
    "    'version': 'V2',\n",
    "    'timestamp': int(round(time.time() * 1000))\n",
    "}\n",
    "\n",
    "payload = {'message': json.dumps(request_json).encode('UTF-8')}\n",
    "files = [\n",
    "    ('file', open(pdf_path,'rb'))\n",
    "]\n",
    "headers = {\n",
    "  'X-OCR-SECRET': secret_key\n",
    "}"
   ]
  },
  {
   "cell_type": "code",
   "execution_count": 147,
   "metadata": {},
   "outputs": [
    {
     "name": "stdout",
     "output_type": "stream",
     "text": [
      "<Response [200]>\n"
     ]
    }
   ],
   "source": [
    "#### api\n",
    "response = requests.request(\"POST\", api_url, headers=headers, data = payload, files = files)\n",
    "print(response)"
   ]
  },
  {
   "cell_type": "code",
   "execution_count": 148,
   "metadata": {},
   "outputs": [
    {
     "data": {
      "text/plain": [
       "'150_159'"
      ]
     },
     "execution_count": 148,
     "metadata": {},
     "output_type": "execute_result"
    }
   ],
   "source": [
    "file_name = pdf_path[-11:-4]\n",
    "file_name"
   ]
  },
  {
   "cell_type": "markdown",
   "metadata": {},
   "source": [
    "#### save response (middle)"
   ]
  },
  {
   "cell_type": "code",
   "execution_count": 149,
   "metadata": {},
   "outputs": [],
   "source": [
    "#### for checking data (to text)\n",
    "txt_path = os.path.join(ROOT_DIR, \"data\", \"response\", file_name+\".txt\")\n",
    "fw = open(txt_path, \"w\")\n",
    "\n",
    "\n",
    "pages = response.json()['images']\n",
    "for page in pages:\n",
    "    texts_list = []\n",
    "    \n",
    "    \n",
    "    for i_obj, obj in enumerate(page['fields']):\n",
    "        texts_list += [obj['inferText']]\n",
    "        \n",
    "        if obj['lineBreak']:\n",
    "            texts_str = \" \".join(texts_list)\n",
    "            print(texts_str, file = fw)\n",
    "            texts_list = []\n",
    "        \n",
    "fw.close()"
   ]
  },
  {
   "cell_type": "code",
   "execution_count": 150,
   "metadata": {},
   "outputs": [
    {
     "name": "stdout",
     "output_type": "stream",
     "text": [
      "<class 'dict'>\n"
     ]
    }
   ],
   "source": [
    "#### save response\n",
    "print(type(response.json()))\n",
    "\n",
    "\n",
    "json_path = os.path.join(ROOT_DIR, \"data\", \"response\", file_name+\".json\")\n",
    "with open(json_path, \"w\") as f:\n",
    "    f.write(json.dumps(response.json(), ensure_ascii=False, indent=4))"
   ]
  },
  {
   "cell_type": "markdown",
   "metadata": {},
   "source": [
    "#### json to json (for test)"
   ]
  },
  {
   "cell_type": "code",
   "execution_count": null,
   "metadata": {},
   "outputs": [
    {
     "data": {
      "text/plain": [
       "'150_159'"
      ]
     },
     "execution_count": 476,
     "metadata": {},
     "output_type": "execute_result"
    }
   ],
   "source": [
    "# pdf_path = pdf_path_list[15]\n",
    "# file_name = pdf_path[-11:-4]\n",
    "# json_path = os.path.join(ROOT_DIR, \"data\", \"response\", file_name+\".json\")\n",
    "# file_name"
   ]
  },
  {
   "cell_type": "markdown",
   "metadata": {},
   "source": [
    "## parsing ocr_text"
   ]
  },
  {
   "cell_type": "code",
   "execution_count": 477,
   "metadata": {},
   "outputs": [
    {
     "data": {
      "text/plain": [
       "['파프리카', '팥', '포도', '플럼코트', '피(사료용)', '피망', '호박', '황금', '황기', '황련']"
      ]
     },
     "execution_count": 477,
     "metadata": {},
     "output_type": "execute_result"
    }
   ],
   "source": [
    "#### load raw response\n",
    "# pages = response.json()['images'] # from memory\n",
    "with open(json_path, \"r\") as f: # from .json\n",
    "    response_json = json.load(f)\n",
    "    pages = response_json['images']    \n",
    "\n",
    "\n",
    "#### page to dict\n",
    "crop_dict = {}\n",
    "\n",
    "for page in pages:\n",
    "    crop_name = \"\"\n",
    "    full_text = \"\"\n",
    "    find_crop = False\n",
    "    \n",
    "    \n",
    "    #### object to full text\n",
    "    for i_obj, obj in enumerate(page['fields']):\n",
    "        text = obj['inferText']\n",
    "        \n",
    "        \n",
    "        #### extract crop name\n",
    "        if i_obj == 0 and \" \" in text: # number + crop name\n",
    "            crop_name = text[text.find(\" \")+1:]\n",
    "            find_crop = True\n",
    "            continue\n",
    "        \n",
    "        elif i_obj == 0: # number\n",
    "            continue\n",
    "        \n",
    "        elif i_obj == 1 and not find_crop: # crop name\n",
    "            crop_name = text\n",
    "            continue\n",
    "        \n",
    "        else:\n",
    "            full_text += text.replace(\" \", \"\") + \" \"\n",
    "            \n",
    "        \n",
    "        #### break line\n",
    "        if obj['lineBreak']:\n",
    "            full_text += \"\\n\"\n",
    "    \n",
    "    crop_dict[crop_name] = full_text\n",
    "    \n",
    "list(crop_dict.keys())\n",
    "# crop_dict[list(crop_dict.keys())[-2]]"
   ]
  },
  {
   "cell_type": "code",
   "execution_count": 478,
   "metadata": {},
   "outputs": [
    {
     "name": "stdout",
     "output_type": "stream",
     "text": [
      "dict_keys(['이름', '작물의생태생리특성', '작물생육에따른기상특성', '작물재배에알맞은토양형태적특성및물리성', '작물재배에알맞은토양화학성']) 파프리카\n",
      "dict_keys(['이름', '작물의생태생리특성', '작물생육에따른기상특성', '작물재배에알맞은토양형태적특성및물리성', '작물재배에알맞은토양화학성']) 팥\n",
      "dict_keys(['이름', '작물의생태생리특성', '작물생육에따른기상특성', '작물재배에알맞은토양형태적특성및물리성', '작물재배에알맞은토양화학성']) 포도\n",
      "dict_keys(['이름', '작물의생태생리특성', '작물생육에따른기상특성', '작물재배에알맞은토양형태적특성및물리성', '작물재배에알맞은토양화학성']) 플럼코트\n",
      "dict_keys(['이름', '작물의생태생리특성', '작물생육에따른기상특성', '작물재배에알맞은토양형태적특성및물리성', '작물재배에알맞은토양화학성']) 피(사료용)\n",
      "dict_keys(['이름', '작물의생태생리특성', '작물생육에따른기상특성', '작물재배에알맞은토양형태적특성및물리성', '작물재배에알맞은토양화학성']) 피망\n",
      "dict_keys(['이름', '작물의생태생리특성', '작물생육에따른기상특성', '작물재배에알맞은토양형태적특성및물리성', '작물재배에알맞은토양화학성']) 호박\n",
      "dict_keys(['이름', '작물의생태생리특성', '작물생육에따른기상특성', '작물재배에알맞은토양형태적특성및물리성', '작물재배에알맞은토양화학성']) 황금\n",
      "dict_keys(['이름', '작물의생태생리특성', '작물생육에따른기상특성', '작물재배에알맞은토양형태적특성및물리성', '작물재배에알맞은토양화학성']) 황기\n",
      "dict_keys(['이름', '작물의생태생리특성', '작물생육에따른기상특성', '작물재배에알맞은토양형태적특성및물리성', '작물재배에알맞은토양화학성']) 황련\n"
     ]
    }
   ],
   "source": [
    "temp_dict = {}\n",
    "#### col variation of ocr text\n",
    "filter_list = \"\"\"\n",
    "    식물명\n",
    "    \n",
    "    학명(정명)\n",
    "    학명 (정명)\n",
    "    \n",
    "    분류\n",
    "    \n",
    "    지역별다른이름\n",
    "    지역별 다른이름\n",
    "    \n",
    "    작물의생태\n",
    "    작물의 생태\n",
    "    \n",
    "    작물생육에따른\n",
    "    작물생육에 따른\n",
    "    작물 생육에따른\n",
    "    작물 생육에 따른\n",
    "    \n",
    "    작물재배에알맞은\n",
    "    작물 재배에알맞은\n",
    "    작물재배에 알맞은\n",
    "    작물 재배에 알맞은\n",
    "\"\"\".replace(\"  \", \"\").split(\"\\n\")\n",
    "\n",
    "filter_list = list(filter(None, filter_list))\n",
    "\n",
    "filt_remove_list = [\"(°C)\", \"°C)\", \"(°C\", \"°C\", \"C\", \"°\", \"·\"]\n",
    "\n",
    "except_crop_list = [\"줄맨드라미(아마란스)\", \"천마\"]\n",
    "\n",
    "\n",
    "#### parsing table\n",
    "for crop_name in crop_dict.keys():\n",
    "    #### line\n",
    "    line_list = crop_dict[crop_name].split(\"\\n\")\n",
    "    line_list = list(filter(None, line_list))\n",
    "    idx_list = []\n",
    "    \n",
    "    \n",
    "    #### extract col idx\n",
    "    for idx_l, line in enumerate(line_list):\n",
    "        for col_name in filter_list:\n",
    "            if col_name in line:\n",
    "                idx_list.append(idx_l)\n",
    "    \n",
    "    \n",
    "    #### error\n",
    "    if not len(idx_list) == 8 and crop_name not in except_crop_list:\n",
    "        for idx_l in idx_list: # check idx & col name\n",
    "            print(line_list[idx_l])\n",
    "        raise ValueError(f\"error : {file_name} : crop {crop_name} : divide per table : \\n\" + \n",
    "                            f\"{len(idx_list)} \\n {idx_list} \\n \" + f\"{line_list}\")\n",
    "    \n",
    "    \n",
    "    #### process\n",
    "    inner_dict = {}\n",
    "    lines_text = \"\"\n",
    "    \n",
    "    \n",
    "    #### divide to table\n",
    "    # print(\"\\n crop_name :\", crop_name, \"idx_list :\", idx_list)\n",
    "    col_name = \"이름\"\n",
    "    inner_dict[col_name] = \"\"\n",
    "    for idx_l, line in enumerate(line_list):\n",
    "        if idx_l in idx_list[4:]: # table 2~\n",
    "            line = line.replace(\" \", \"\")\n",
    "            for str_remove in filt_remove_list:\n",
    "                line = line.replace(str_remove, \"\")\n",
    "            col_name = line\n",
    "            inner_dict[line] = \"\"\n",
    "        \n",
    "        else:\n",
    "            inner_dict[col_name] += line + \"\\n\"\n",
    "            \n",
    "            \n",
    "            \n",
    "    temp_dict[crop_name] = inner_dict\n",
    "    print(inner_dict.keys(), crop_name)"
   ]
  },
  {
   "cell_type": "code",
   "execution_count": 479,
   "metadata": {},
   "outputs": [],
   "source": [
    "crop_dict = temp_dict"
   ]
  },
  {
   "cell_type": "markdown",
   "metadata": {},
   "source": [
    "### 이름"
   ]
  },
  {
   "cell_type": "code",
   "execution_count": 480,
   "metadata": {},
   "outputs": [],
   "source": [
    "temp_dict = {}\n",
    "\n",
    "#### parsing inner-inner (이름)\n",
    "for crop_name in crop_dict.keys():\n",
    "    temp_dict[crop_name] = {}\n",
    "    inner_inner_dict = {}\n",
    "    temp_line_list = []\n",
    "    \n",
    "    line_list = crop_dict[crop_name]['이름'].split(\"\\n\")\n",
    "    line_list = list(filter(None, line_list))\n",
    "    idx_list = []\n",
    "    \n",
    "    \n",
    "    #### extract col idx\n",
    "    for idx_l, line in enumerate(line_list):\n",
    "        for col_name in filter_list:\n",
    "            if col_name in line:\n",
    "                idx_list.append(idx_l)\n",
    "                \n",
    "    \n",
    "    #### parssing table\n",
    "    # print(\"\\n crop_name :\", crop_name, \"len_line_list :\", len(line_list),  \"idx_list :\", idx_list)\n",
    "    for idx_l, line in enumerate(line_list):\n",
    "        if idx_l in idx_list: # row 1\n",
    "            if idx_l == 0:\n",
    "                idx_cut = line.find(\" \")\n",
    "                inner_inner_dict[line[:idx_cut]] = line[idx_cut:].strip()\n",
    "            elif idx_l-1 in idx_list or idx_l+1 in idx_list:\n",
    "                idx_cut = line.find(\" \")\n",
    "                inner_inner_dict[line[:idx_cut]] = line[idx_cut:].strip()\n",
    "            else:\n",
    "                col_name = line.replace(\" \", \"\")\n",
    "                inner_inner_dict[col_name] = \"\"\n",
    "        else:\n",
    "            temp_line_list += [line] # 2 line sepc (execpt >3)\n",
    "            if len(temp_line_list) >= 2:\n",
    "                for line in temp_line_list:\n",
    "                    inner_inner_dict[col_name] += line\n",
    "                inner_inner_dict[col_name] = inner_inner_dict[col_name].strip()\n",
    "                temp_line_list = []\n",
    "        \n",
    "            \n",
    "    temp_dict[crop_name][\"이름\"] = inner_inner_dict\n",
    "    # print(inner_inner_dict)\n",
    "    "
   ]
  },
  {
   "cell_type": "code",
   "execution_count": 481,
   "metadata": {},
   "outputs": [],
   "source": [
    "for crop_name in crop_dict.keys():\n",
    "    crop_dict[crop_name][\"이름\"] = temp_dict[crop_name][\"이름\"]"
   ]
  },
  {
   "cell_type": "markdown",
   "metadata": {},
   "source": [
    "### 작물의 생태 생리특성"
   ]
  },
  {
   "cell_type": "code",
   "execution_count": null,
   "metadata": {},
   "outputs": [],
   "source": [
    "O_list = [\"O\", \"o\" ,\"○\" ,\"0\"]\n",
    "X_list = [\"X\", \"x\"]\n",
    "blank_list = [\"\", \" \"]\n",
    "temp_dict = {}\n",
    "\n",
    "\n",
    "#### parsing inner-inner (작물의생태생리특성)\n",
    "for crop_name in crop_dict.keys():\n",
    "    temp_dict[crop_name] = {}\n",
    "    inner_inner_dict = {}\n",
    "    \n",
    "    \n",
    "    #### parssing table\n",
    "    for val in crop_dict[crop_name][\"작물의생태생리특성\"][:-1].split(\"\\n\"):\n",
    "        \n",
    "        if \"생태형\" in val: inner_inner_dict[\"생태형\"] = val[3:].strip()\n",
    "        \n",
    "        elif \"월동여부\" in val:\n",
    "            val = val[4:].strip()\n",
    "            if val in O_list: inner_inner_dict[\"월동여부\"] = True\n",
    "            elif val in X_list: inner_inner_dict[\"월동여부\"] = False\n",
    "            elif val in blank_list: inner_inner_dict[\"월동여부\"] = None\n",
    "            else: ValueError(f\"error : parssing : 월동여부 : val : {val, len(val)}\")\n",
    "            \n",
    "        elif \"생리특성\" in val: inner_inner_dict[\"생리특성\"] = val[4:].strip()\n",
    "        \n",
    "        elif \"질소고정균\" in val:\n",
    "            val = val[10:].strip()\n",
    "            if val in O_list: inner_inner_dict[\"질소고정균공생여부\"] = True\n",
    "            elif val in X_list: inner_inner_dict[\"질소고정균공생여부\"] = False\n",
    "            elif val in blank_list: inner_inner_dict[\"질소고정균공생여부\"] = None\n",
    "            else: ValueError(f\"error : parssing : 질소고정균공생여부 : val : {val, len(val)}\")\n",
    "            \n",
    "        elif \"초본/목본\" in val: inner_inner_dict[\"초본/목본\"] = val[8:].strip()\n",
    "        \n",
    "        else: ValueError(f\"error : parssing : 작물의생태생리특성 : column : {val}\")\n",
    "            \n",
    "            \n",
    "    temp_dict[crop_name][\"작물의생태생리특성\"] = inner_inner_dict"
   ]
  },
  {
   "cell_type": "code",
   "execution_count": 483,
   "metadata": {},
   "outputs": [],
   "source": [
    "for crop_name in crop_dict.keys():\n",
    "    crop_dict[crop_name][\"작물의생태생리특성\"] = temp_dict[crop_name][\"작물의생태생리특성\"]"
   ]
  },
  {
   "cell_type": "markdown",
   "metadata": {},
   "source": [
    "### 작물 생육에 따른 기상특성"
   ]
  },
  {
   "cell_type": "code",
   "execution_count": null,
   "metadata": {},
   "outputs": [],
   "source": [
    "#### parsing inner-inner ()\n",
    "temp_dict = {}\n",
    "flt_isdigit_rlist = [\" \", \"-\", \"~\", \".\", \",\",\n",
    "                        \">\", \"<\", \"(\", \")\",\n",
    "                        \"mm\", \"ml\", \"mL\", \"L\",\n",
    "                    ]\n",
    "\n",
    "\n",
    "for crop_name in crop_dict.keys():\n",
    "    temp_dict[crop_name] = {}\n",
    "    inner_inner_dict = {}\n",
    "    temp_str = []\n",
    "    \n",
    "    \n",
    "    #### parssing table\n",
    "    for line in crop_dict[crop_name][\"작물생육에따른기상특성\"][:-1].split(\"\\n\"):\n",
    "        line = line.strip()\n",
    "        vals_list = line.split(\" \")\n",
    "        isdigit_list = []\n",
    "        \n",
    "        for i_flt, val in enumerate(vals_list):\n",
    "            for flt_str in flt_isdigit_rlist:\n",
    "                val = val.replace(flt_str, \"\")\n",
    "            \n",
    "            if val.isdigit():\n",
    "                isdigit_list += [i_flt]\n",
    "        \n",
    "        \n",
    "        #### case - len vals\n",
    "        if len(vals_list) == 2: # pair 1\n",
    "            inner_inner_dict[vals_list[0].strip()] = vals_list[1].strip()\n",
    "            \n",
    "        elif len(vals_list) == 4:\n",
    "            if isdigit_list == [1, 3]: # pair 2\n",
    "                inner_inner_dict[vals_list[0].strip()] = vals_list[1].strip()\n",
    "                inner_inner_dict[vals_list[2].strip()] = vals_list[3].strip()\n",
    "                \n",
    "            elif \"(\" in vals_list[1] or \")\" in vals_list[1]: # pair 1 (with space in first col)\n",
    "                inner_inner_dict[\" \".join(vals_list[0:3]).strip()] = vals_list[3].strip()\n",
    "                \n",
    "            elif isdigit_list == [1, 2, 3]:\n",
    "                \n",
    "                if \",\" in vals_list[1]:\n",
    "                    inner_inner_dict[vals_list[0].strip()] = \", \".join(vals_list[1:3]).strip()\n",
    "                    inner_inner_dict[temp_str.strip()] = vals_list[3].strip()\n",
    "                    \n",
    "                elif \",\" in vals_list[2]:\n",
    "                    inner_inner_dict[vals_list[0].strip()] = vals_list[1].strip()\n",
    "                    inner_inner_dict[temp_str.strip()] = \", \".join(vals_list[2:4]).strip()\n",
    "                \n",
    "                \n",
    "            elif isdigit_list == [0, 1, 3]:\n",
    "                inner_inner_dict[temp_str.strip()] = \", \".join(vals_list[0:2]).strip()\n",
    "                inner_inner_dict[vals_list[2].strip()] = vals_list[3].strip()\n",
    "                \n",
    "            elif isdigit_list == [0, 2, 3]:\n",
    "                inner_inner_dict[temp_str.strip()] = vals_list[0].strip()\n",
    "                inner_inner_dict[vals_list[1].strip()] = \", \".join(vals_list[0:2]).strip()\n",
    "                \n",
    "            else: \n",
    "                inner_inner_dict[vals_list[0].strip()] = vals_list[1].strip()\n",
    "                inner_inner_dict[vals_list[2].strip()] = vals_list[3].strip()\n",
    "            \n",
    "            # else: raise ValueError(f\"error : {file_name} : crop {crop_name} : 기상특성 : len(vals_list) == 4 : \\n {line} \\n {isdigit_list}\")\n",
    "            \n",
    "                \n",
    "        elif len(vals_list) > 4: # etc\n",
    "            if isdigit_list == [1, 4]: # 2-5\n",
    "                inner_inner_dict[vals_list[0].strip()] = vals_list[1].strip()\n",
    "                inner_inner_dict[\" \".join(vals_list[2:4]).strip()] = vals_list[4].strip()\n",
    "                \n",
    "            elif isdigit_list == [2, 4]: # 2-5\n",
    "                inner_inner_dict[\" \".join(vals_list[0:2]).strip()] = vals_list[2].strip()\n",
    "                inner_inner_dict[vals_list[3].strip()] = vals_list[4].strip()\n",
    "            \n",
    "            elif isdigit_list == [1, 3, 5]: # 3-6\n",
    "                inner_inner_dict[vals_list[0].strip()] = vals_list[1].strip()\n",
    "                inner_inner_dict[vals_list[2].strip()] = vals_list[3].strip()\n",
    "                inner_inner_dict[vals_list[4].strip()] = vals_list[5].strip()\n",
    "                \n",
    "            else: # 2-n\n",
    "                idx_tem = 0\n",
    "                if not line.rfind(\"기온\") == -1: idx_tem = line.rfind(\"기온\") + 2\n",
    "                elif not line.rfind(\"적온\") == -1: idx_tem = line.rfind(\"적온\") + 2\n",
    "                elif not line.rfind(\"온도\") == -1: idx_tem = line.rfind(\"온도\") + 2\n",
    "                else: raise ValueError(f\"error : {file_name} : crop {crop_name} : 기상특성 : len(vals_list) > 4 : \\n {line}\")\n",
    "                inner_inner_dict[line[:idx_tem].strip()] = line[idx_tem:].strip()\n",
    "            \n",
    "        elif len(vals_list) == 1: # over line\n",
    "            temp_str = line\n",
    "        \n",
    "        elif len(vals_list) == 3: # over line\n",
    "            if isdigit_list == [0, 2]:\n",
    "                inner_inner_dict[temp_str.strip()] = vals_list[0].strip()\n",
    "                inner_inner_dict[vals_list[1].strip()] = vals_list[2].strip()\n",
    "            elif isdigit_list == [1, 2]:\n",
    "                inner_inner_dict[vals_list[0].strip()] = vals_list[1].strip()\n",
    "                inner_inner_dict[temp_str.strip()] = vals_list[2].strip()\n",
    "        \n",
    "            \n",
    "        else: raise ValueError(f\"error : {file_name} : crop {crop_name} : 기상특성 : len 1 3 ? : \\n {line}\")\n",
    "                             \n",
    "            \n",
    "    temp_dict[crop_name][\"작물생육에따른기상특성\"] = inner_inner_dict\n",
    "        "
   ]
  },
  {
   "cell_type": "code",
   "execution_count": 485,
   "metadata": {},
   "outputs": [],
   "source": [
    "for crop_name in crop_dict.keys():\n",
    "    crop_dict[crop_name][\"작물생육에따른기상특성\"] = temp_dict[crop_name][\"작물생육에따른기상특성\"]"
   ]
  },
  {
   "cell_type": "markdown",
   "metadata": {},
   "source": [
    "### 작물 재배에 알맞은 토양 형태적 특성 및 물리성\n",
    "124 인삼, 126 작두콩"
   ]
  },
  {
   "cell_type": "code",
   "execution_count": 486,
   "metadata": {},
   "outputs": [],
   "source": [
    "#### parsing inner-inner ()\n",
    "temp_dict = {}\n",
    "\n",
    "\n",
    "#### variation of column (작물재배에알맞은토양형태적특성및물리성)\n",
    "col_list_05 = ['지형', '경사(%)', '토성', '유효토심(cm)', '배수등급']\n",
    "col_list_06_01 = ['지형', '경사(%)', '토성', '유효토심(cm)', '배수등급', '경사(%)']\n",
    "col_list_06_02 = ['지형', '경사(%)', '토성', '유효토심(cm)', '배수등급', '해발(cm)']\n",
    "\n",
    "flt_tem_rlist = [\"(cm)\", \"cm)\", \"(cm\",\n",
    "                    \"(m)\", \"m)\", \"(m\",\n",
    "                    \"(%)\", \"%)\", \"(%\"]\n",
    "\n",
    "\n",
    "except_crop_list_01 = [\"줄맨드라미(아마란스)\", \"천마\"] # none\n",
    "except_crop_list_02 = [\"작두콩\", \"쥐눈이콩\"] # multi_row\n",
    "except_crop_list_03 = [\"인삼\"] # impossible\n",
    "\n",
    "\n",
    "for crop_name in crop_dict.keys():\n",
    "    temp_dict[crop_name] = {}\n",
    "    inner_inner_dict = {}\n",
    "    \n",
    "    #### parssing table\n",
    "    if crop_name in except_crop_list_01:\n",
    "        temp_dict[crop_name][\"작물재배에알맞은토양형태적특성및물리성\"] = inner_inner_dict\n",
    "        continue\n",
    "    \n",
    "    line_list = crop_dict[crop_name][\"작물재배에알맞은토양형태적특성및물리성\"][:-1].split(\"\\n\")\n",
    "    \n",
    "    \n",
    "    #### case - len rows\n",
    "    if len(line_list) == 2: # row 2\n",
    "        col_str = line_list[0]\n",
    "        for str_remove in flt_tem_rlist:\n",
    "            col_str = col_str.replace(str_remove, \"\")\n",
    "            \n",
    "        val_list = list(filter(None, line_list[1].split(\" \")))\n",
    "        \n",
    "        #### case - len vals\n",
    "        if len(val_list) == 5: col_list = col_list_05\n",
    "        elif len(val_list) == 6 and \"경사\" in col_str: col_list = col_list_06_01\n",
    "        elif len(val_list) == 6 and \"해발\" in col_str: col_list = col_list_06_02\n",
    "        else: raise ValueError(f\"error : len col_list : {len(col_list)}\")\n",
    "        \n",
    "        for idx_col, col_name in enumerate(col_list):\n",
    "            inner_inner_dict[col_name] = val_list[idx_col].replace(\"-\", \"~\").strip()\n",
    "            \n",
    "    elif len(line_list) == 4:  # row 2-4\n",
    "        val_list = list(filter(None, line_list[3].split(\" \")))\n",
    "        if crop_name in except_crop_list_02:\n",
    "            val_list = list(filter(None, line_list[2].split(\" \")))\n",
    "            val_list.insert(2, line_list[0]+\",\"+line_list[2])\n",
    "        len_col = len(val_list)\n",
    "            \n",
    "        \n",
    "        #### case - len vals\n",
    "        if len_col == 5: col_list = col_list_05\n",
    "        elif len_col == 6 and \"경사\" in col_str: col_list = col_list_06_01\n",
    "        elif len_col == 6 and \"해발\" in col_str: col_list = col_list_06_02\n",
    "        elif crop_name in except_crop_list_03:\n",
    "            temp_dict[crop_name][\"작물재배에알맞은토양형태적특성및물리성\"] = inner_inner_dict\n",
    "            continue\n",
    "        else: raise ValueError(f\"error : {file_name} : crop {crop_name} : 토양형태적특성및물리성 : len vals : {len_col} : \\n {line_list}\")\n",
    "        \n",
    "        for idx_col, col_name in enumerate(col_list):\n",
    "            inner_inner_dict[col_name] = val_list[idx_col].replace(\"-\", \"~\").strip()\n",
    "            \n",
    "    elif len(line_list) > 4:\n",
    "        pass\n",
    "\n",
    "    else: raise ValueError(f\"error : {file_name} : crop {crop_name} : 토양형태적특성및물리성 : \\n {line_list}\")\n",
    "        \n",
    "    \n",
    "    temp_dict[crop_name][\"작물재배에알맞은토양형태적특성및물리성\"] = inner_inner_dict"
   ]
  },
  {
   "cell_type": "code",
   "execution_count": 487,
   "metadata": {},
   "outputs": [
    {
     "name": "stdout",
     "output_type": "stream",
     "text": [
      "파프리카\n",
      "팥\n",
      "포도\n",
      "플럼코트\n",
      "피(사료용)\n",
      "피망\n",
      "호박\n",
      "황금\n",
      "황기\n",
      "황련\n"
     ]
    }
   ],
   "source": [
    "for crop_name in crop_dict.keys():\n",
    "    print(crop_name)\n",
    "    crop_dict[crop_name][\"작물재배에알맞은토양형태적특성및물리성\"] = temp_dict[crop_name][\"작물재배에알맞은토양형태적특성및물리성\"]"
   ]
  },
  {
   "cell_type": "markdown",
   "metadata": {},
   "source": [
    "### 작물 재배에 알맞은 토양 화학성"
   ]
  },
  {
   "cell_type": "code",
   "execution_count": 488,
   "metadata": {},
   "outputs": [],
   "source": [
    "#### parsing inner-inner ()\n",
    "temp_dict = {}\n",
    "col_list_dict = {\n",
    "                    \"6\" : \"산도 유효인산 칼륨 칼슘 마그네슘 양이온교환용량\".split(\" \"),\n",
    "                    \"7\" : \"산도 유기물 유효인산 칼륨 칼슘 마그네슘 양이온교환용량\".split(\" \"),\n",
    "                    \"8\" : \"산도 전기전도도 유기물 유효인산 칼륨 칼슘 마그네슘 양이온교환용량\".split(\" \"),\n",
    "                    \"9\" : \"산도 전기전도도 질산태질소 유기물 유효인산 칼륨 칼슘 마그네슘 양이온교환용량\".split(\" \"),\n",
    "                    \"10\" : \"산도 전기전도도 질산태질소 유기물 유효인산 칼륨 칼슘 마그네슘 양이온교환용량 붕소\".split(\" \"),\n",
    "            }\n",
    "    \n",
    "except_crop_list_04 = [\"천마\"] # none\n",
    "\n",
    "\n",
    "for crop_name in crop_dict.keys():\n",
    "    temp_dict[crop_name] = {}\n",
    "    inner_inner_dict = {}\n",
    "    \n",
    "    #### find values\n",
    "    if crop_name in except_crop_list_04:\n",
    "        temp_dict[crop_name][\"작물재배에알맞은토양화학성\"] = inner_inner_dict\n",
    "        continue\n",
    "        \n",
    "    line_list = crop_dict[crop_name][\"작물재배에알맞은토양화학성\"][:-1].split(\"\\n\")\n",
    "    for idx_line in range(1, len(line_list)+1):\n",
    "        line = line_list[-idx_line].replace(\"-\", \"~\")\n",
    "        val_list = list(filter(None, line.split(\" \")))\n",
    "        \n",
    "        \n",
    "        #### values\n",
    "        if line.count(\"~\") > 3:\n",
    "            \n",
    "            if 6 <= len(val_list) <= 10:\n",
    "                col_list = col_list_dict[f\"{len(val_list)}\"]\n",
    "            \n",
    "                for idx_val, val in enumerate(val_list):\n",
    "                    if not \"~\" in val:\n",
    "                        val_list[idx_val] = \"~\" + val\n",
    "                \n",
    "                    for idx_val, val in enumerate(val_list):\n",
    "                        inner_inner_dict[col_list[idx_val]] = val\n",
    "                            \n",
    "            else: raise ValueError(f\"error : {file_name} : crop {crop_name} : 작물재배에알맞은토양화학성 : \\n {val_list}\")\n",
    "            \n",
    "        \n",
    "    temp_dict[crop_name][\"작물재배에알맞은토양화학성\"] = inner_inner_dict"
   ]
  },
  {
   "cell_type": "code",
   "execution_count": 489,
   "metadata": {},
   "outputs": [],
   "source": [
    "for crop_name in crop_dict.keys():\n",
    "    crop_dict[crop_name][\"작물재배에알맞은토양화학성\"] = temp_dict[crop_name][\"작물재배에알맞은토양화학성\"]"
   ]
  },
  {
   "cell_type": "code",
   "execution_count": 490,
   "metadata": {},
   "outputs": [],
   "source": [
    "#### save\n",
    "output_path = os.path.join(ROOT_DIR, \"data\", \"ocr_json\", file_name+\".json\")\n",
    "\n",
    "\n",
    "with open(output_path, \"w\") as f:\n",
    "    f.write(json.dumps(crop_dict, ensure_ascii=False, indent=4))"
   ]
  }
 ],
 "metadata": {
  "kernelspec": {
   "display_name": "final_sparta",
   "language": "python",
   "name": "python3"
  },
  "language_info": {
   "codemirror_mode": {
    "name": "ipython",
    "version": 3
   },
   "file_extension": ".py",
   "mimetype": "text/x-python",
   "name": "python",
   "nbconvert_exporter": "python",
   "pygments_lexer": "ipython3",
   "version": "3.10.16"
  }
 },
 "nbformat": 4,
 "nbformat_minor": 2
}
